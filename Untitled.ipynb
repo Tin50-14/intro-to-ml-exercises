{
 "cells": [
  {
   "cell_type": "code",
   "execution_count": 2,
   "id": "6a9a041d-943b-4a9b-b16c-5fa900f0b350",
   "metadata": {},
   "outputs": [
    {
     "ename": "SyntaxError",
     "evalue": "invalid syntax (3177353585.py, line 2)",
     "output_type": "error",
     "traceback": [
      "\u001b[0;36m  Cell \u001b[0;32mIn[2], line 2\u001b[0;36m\u001b[0m\n\u001b[0;31m    self.weights_history.\"W1\"\u001b[0m\n\u001b[0m                         ^\u001b[0m\n\u001b[0;31mSyntaxError\u001b[0m\u001b[0;31m:\u001b[0m invalid syntax\n"
     ]
    }
   ],
   "source": [
    "self.weights_history = {'W1': [], 'b1': [], 'W2': [], 'b2': []}\n",
    "self.weights_history.\"W1\""
   ]
  },
  {
   "cell_type": "code",
   "execution_count": null,
   "id": "f01b832a-fcc4-4752-88c7-7e857169b664",
   "metadata": {},
   "outputs": [],
   "source": []
  }
 ],
 "metadata": {
  "kernelspec": {
   "display_name": "Python 3 (ipykernel)",
   "language": "python",
   "name": "python3"
  },
  "language_info": {
   "codemirror_mode": {
    "name": "ipython",
    "version": 3
   },
   "file_extension": ".py",
   "mimetype": "text/x-python",
   "name": "python",
   "nbconvert_exporter": "python",
   "pygments_lexer": "ipython3",
   "version": "3.10.18"
  }
 },
 "nbformat": 4,
 "nbformat_minor": 5
}
